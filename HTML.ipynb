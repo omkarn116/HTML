{
  "nbformat": 4,
  "nbformat_minor": 0,
  "metadata": {
    "colab": {
      "provenance": []
    },
    "kernelspec": {
      "name": "python3",
      "display_name": "Python 3"
    },
    "language_info": {
      "name": "python"
    }
  },
  "cells": [
    {
      "cell_type": "markdown",
      "source": [
        "# HTML\n"
      ],
      "metadata": {
        "id": "AMVcHmRClIDH"
      }
    },
    {
      "cell_type": "markdown",
      "source": [
        "1.Write a simple program in HTML  that displays the heading \"HTML defines the content and structure of\n",
        "your website” on the web browser?\n"
      ],
      "metadata": {
        "id": "21m9OQDglRRR"
      }
    },
    {
      "cell_type": "code",
      "source": [
        "# question\n",
        "<!DOCTYPE html>\n",
        "<html lang=\"en\">\n",
        "<head>\n",
        "    <meta charset=\"UTF-8\">\n",
        "    <meta name=\"viewport\" content=\"width=device-width, initial-scale=1.0\">\n",
        "    <title>Simple Heading</title>\n",
        "</head>\n",
        "<body>\n",
        "    <h1>HTML defines the content and structure of your website</h1>\n",
        "</body>\n",
        "</html>\n"
      ],
      "metadata": {
        "id": "EOQHmoBSmHrz",
        "collapsed": true
      },
      "execution_count": null,
      "outputs": []
    },
    {
      "cell_type": "markdown",
      "source": [
        "2. Explain the purpose of comments in HTML and provide an example of how to use comments in an HTML document?\n",
        "- HTML comments, enclosed in <!-- and -->, are notes for developers, not displayed in the browser. They help explain code, document functionality, and temporarily disable sections of code for debugging.\n",
        "\n",
        " Here's how to use them:\n",
        "- Purpose: HTML comments are used to add explanatory notes to the markup, or to\n",
        "  prevent the browser from interpreting specific parts of the document.\n",
        "- Syntax: HTML comments start with <! -- and end with -->.\n",
        "- Example:\n"
      ],
      "metadata": {
        "id": "ugzDte3VZAuN"
      }
    },
    {
      "cell_type": "code",
      "source": [
        "    <! -- This is a comment and will not be displayed on the webpage -->\n",
        "    <p>This is a paragraph.</p>\n",
        "    <! -- Remember to add more information here -->"
      ],
      "metadata": {
        "id": "nZZKph2waC3k"
      },
      "execution_count": null,
      "outputs": []
    },
    {
      "cell_type": "markdown",
      "source": [
        "- Use Cases:\n",
        "- Documentation: Explain the purpose of specific code sections.\n",
        "- Reminders: Leave notes for yourself or other developers.\n",
        "- Debugging: Temporarily disable code to isolate errors.\n",
        "- Temporary Hiding: Hide content without deleting it."
      ],
      "metadata": {
        "id": "x37-1vyraYt7"
      }
    },
    {
      "cell_type": "markdown",
      "source": [
        "3. Write an HTML program that includes a heading, a paragraph of text, a horizontal line, and a line break.\n",
        "Arrange these elements to create a simple web page layout?\n",
        "- HTML program that includes a heading, a paragraph of text, a horizontal line, and a line break:\n",
        "\n",
        "HTML Program\n"
      ],
      "metadata": {
        "id": "sJNcRxb0albZ"
      }
    },
    {
      "cell_type": "code",
      "source": [
        "<!DOCTYPE html>\n",
        "<html>\n",
        "<head>\n",
        "\t<title>Simple Web Page</title>\n",
        "</head>\n",
        "<body>\n",
        "\t<!-- Heading -->\n",
        "\t<h1>Welcome to My Web Page</h1>\n",
        "\n",
        "\t<!-- Paragraph of text -->\n",
        "\t<p>This is a simple web page created using HTML. It includes a heading, a paragraph of text, a horizontal line, and a line break.</p>\n",
        "\n",
        "\t<!-- Horizontal line -->\n",
        "\t<hr>\n",
        "\n",
        "\t<!-- Line break -->\n",
        "\t<br>\n",
        "\n",
        "\t<!-- Additional paragraph of text -->\n",
        "\t<p>You can add more content to your web page using HTML elements like headings, paragraphs, images, links, and more.</p>\n",
        "</body>\n",
        "</html>\n",
        "\n"
      ],
      "metadata": {
        "id": "bvKLLrC_5lZx"
      },
      "execution_count": null,
      "outputs": []
    },
    {
      "cell_type": "markdown",
      "source": [
        "4. Write a short note on Tag and element with an example?\n",
        "- Here's a short note on tags and elements in HTML:\n",
        "\n",
        "Tag vs. Element\n",
        "In HTML, a tag is a keyword surrounded by angle brackets (< and >), while an element is the tag and its content.\n",
        "\n",
        "Example\n",
        "Consider the following HTML code:\n"
      ],
      "metadata": {
        "id": "6XN9N9JX56vc"
      }
    },
    {
      "cell_type": "code",
      "source": [
        "<p>This is a paragraph of text.</p>"
      ],
      "metadata": {
        "id": "qnkjy4Ty6mCL"
      },
      "execution_count": null,
      "outputs": []
    },
    {
      "cell_type": "markdown",
      "source": [
        "in this example:\n",
        "\n",
        "- <> is the opening tag.\n",
        "- </> is the closing tag.\n",
        "- This is a paragraph of text. is the content.\n",
        "- The entire construct, including the opening tag, content, and closing tag, is the element.\n",
        "\n",
        "Key Points\n",
        "- Tags are used to define the structure and organization of content in an HTML document.\n",
        "- Elements are the building blocks of an HTML document, consisting of a tag and its content.\n",
        "- Properly nested and closed tags are essential for creating valid HTML elements."
      ],
      "metadata": {
        "id": "mr6Sv-sz6sAl"
      }
    },
    {
      "cell_type": "markdown",
      "source": [
        "5. What is the DOCTYPE Declaration in HTML?\n",
        "- The DOCTYPE declaration, also known as the document type declaration, is the first line of code in an HTML document. It tells the browser what version of HTML is being used and what rules to follow when rendering the document.\n",
        "\n",
        "**Purpose of the DOCTYPE Declaration**\n",
        "\n",
        "The DOCTYPE declaration serves several purposes:\n",
        "\n",
        "1. Versioning: It specifies the version of HTML being used, which helps the browser determine how to render the document.\n",
        "2. Validation: It tells the browser which rules to follow when validating the HTML code.\n",
        "3. Rendering mode: It instructs the browser to render the document in a specific mode, such as standards mode or quirks mode.\n",
        "\n",
        "**Importance of the DOCTYPE Declaration**\n",
        "\n",
        "The DOCTYPE declaration is important because:\n",
        "\n",
        "1. Ensures standards compliance: It helps ensure that the HTML code is written according to the specified standard.\n",
        "2. Improves browser compatibility: It helps browsers render the document correctly, even if they don't support the latest HTML features.\n",
        "3. Enables validation: It allows developers to validate their HTML code using tools like the W3C Validator.\n",
        "\n"
      ],
      "metadata": {
        "id": "VKCpGmyT7BM8"
      }
    }
  ]
}